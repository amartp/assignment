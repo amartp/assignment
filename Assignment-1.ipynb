{
 "cells": [
  {
   "cell_type": "code",
   "execution_count": 2,
   "id": "7244d8c6-27dc-41ea-8f38-805205dba2d9",
   "metadata": {},
   "outputs": [],
   "source": [
    "a = \"amar\"\n",
    "b = [1, 2, 3, 4, 5]\n",
    "c = 351.654\n",
    "d = (1, 2, 3, \"Amar\", \"Sanyukta\", 35.565)"
   ]
  },
  {
   "cell_type": "code",
   "execution_count": 3,
   "id": "2d926a43-ec36-412e-a438-5c2e5837eb9a",
   "metadata": {},
   "outputs": [
    {
     "ename": "SyntaxError",
     "evalue": "invalid syntax (1630562036.py, line 1)",
     "output_type": "error",
     "traceback": [
      "\u001b[0;36m  Cell \u001b[0;32mIn[3], line 1\u001b[0;36m\u001b[0m\n\u001b[0;31m    1 string\u001b[0m\n\u001b[0m      ^\u001b[0m\n\u001b[0;31mSyntaxError\u001b[0m\u001b[0;31m:\u001b[0m invalid syntax\n"
     ]
    }
   ],
   "source": [
    "1 string\n",
    "2 string\n",
    "3 list\n",
    "4 int"
   ]
  },
  {
   "cell_type": "code",
   "execution_count": 4,
   "id": "e2fcef5b-4e9b-4c85-80e7-3dd35c5e9784",
   "metadata": {},
   "outputs": [
    {
     "ename": "SyntaxError",
     "evalue": "invalid syntax (2382168093.py, line 1)",
     "output_type": "error",
     "traceback": [
      "\u001b[0;36m  Cell \u001b[0;32mIn[4], line 1\u001b[0;36m\u001b[0m\n\u001b[0;31m    1 / used as divison operator\u001b[0m\n\u001b[0m             ^\u001b[0m\n\u001b[0;31mSyntaxError\u001b[0m\u001b[0;31m:\u001b[0m invalid syntax\n"
     ]
    }
   ],
   "source": [
    "1 / used as divison operator\n",
    "2 % used as modulus operator\n",
    "3 // used as division floar operator\n",
    "4 ** used as to the power operator"
   ]
  },
  {
   "cell_type": "code",
   "execution_count": 5,
   "id": "d6604793-6944-45d6-b99a-220a5539e4a2",
   "metadata": {},
   "outputs": [
    {
     "name": "stdout",
     "output_type": "stream",
     "text": [
      "1\n",
      "<class 'int'>\n",
      "2\n",
      "<class 'int'>\n",
      "3\n",
      "<class 'int'>\n",
      "samar\n",
      "<class 'str'>\n",
      "524.652\n",
      "<class 'float'>\n",
      "True\n",
      "<class 'bool'>\n",
      "7\n",
      "<class 'int'>\n",
      "8\n",
      "<class 'int'>\n",
      "9\n",
      "<class 'int'>\n",
      "10\n",
      "<class 'int'>\n"
     ]
    }
   ],
   "source": [
    "l = [1, 2, 3, \"samar\", 524.652, True, 7, 8, 9, 10]\n",
    "for i in l:\n",
    "    print(i)\n",
    "    print(type(i))"
   ]
  },
  {
   "cell_type": "code",
   "execution_count": 6,
   "id": "5e5894a8-678b-4e4b-8653-5e8e10c4ef1c",
   "metadata": {},
   "outputs": [
    {
     "name": "stdout",
     "output_type": "stream",
     "text": [
      "a is completely divisible by b\n",
      "4\n"
     ]
    }
   ],
   "source": [
    "a = 20\n",
    "b = 5\n",
    "d = a % b\n",
    "h = a // b\n",
    "while d == 0:\n",
    "    print(\"a is completely divisible by b\")\n",
    "    print(h)\n",
    "    break"
   ]
  },
  {
   "cell_type": "code",
   "execution_count": 24,
   "id": "c8848511-93ed-4818-a438-09c43619bdfe",
   "metadata": {},
   "outputs": [
    {
     "name": "stdout",
     "output_type": "stream",
     "text": [
      "not completely divisible\n",
      "not completely divisible\n",
      "1.0\n",
      "not completely divisible\n",
      "not completely divisible\n",
      "2.0\n",
      "not completely divisible\n",
      "not completely divisible\n",
      "3.0\n",
      "not completely divisible\n",
      "not completely divisible\n",
      "4.0\n",
      "not completely divisible\n",
      "not completely divisible\n",
      "5.0\n",
      "not completely divisible\n",
      "not completely divisible\n",
      "6.0\n",
      "not completely divisible\n",
      "not completely divisible\n",
      "7.0\n",
      "not completely divisible\n",
      "not completely divisible\n",
      "8.0\n",
      "not completely divisible\n"
     ]
    }
   ],
   "source": [
    "listt = [1, 2, 3, 4, 5, 6, 7, 8, 9, 10, 11, 12, 13, 14, 15, 16, 17, 18, 19, 20, 21, 22, 23, 24, 25]\n",
    "\n",
    "for i in listt:\n",
    "    if i % 3 == 0:\n",
    "        print(i/3)\n",
    "    else:\n",
    "        print(\"not completely divisible\")"
   ]
  },
  {
   "cell_type": "code",
   "execution_count": null,
   "id": "843931f8-0853-4612-a075-734b24951c3f",
   "metadata": {},
   "outputs": [],
   "source": [
    "in mutable vaiable we can change thire context, but in imutable variable we can not."
   ]
  }
 ],
 "metadata": {
  "kernelspec": {
   "display_name": "Python 3 (ipykernel)",
   "language": "python",
   "name": "python3"
  },
  "language_info": {
   "codemirror_mode": {
    "name": "ipython",
    "version": 3
   },
   "file_extension": ".py",
   "mimetype": "text/x-python",
   "name": "python",
   "nbconvert_exporter": "python",
   "pygments_lexer": "ipython3",
   "version": "3.10.8"
  }
 },
 "nbformat": 4,
 "nbformat_minor": 5
}
